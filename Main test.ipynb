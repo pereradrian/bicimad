{
 "cells": [
  {
   "cell_type": "code",
   "execution_count": 4,
   "metadata": {
    "ExecuteTime": {
     "end_time": "2024-04-01T18:49:30.013476Z",
     "start_time": "2024-04-01T18:49:29.989393Z"
    }
   },
   "outputs": [],
   "source": [
    "%reload_ext autoreload\n",
    "%autoreload 2"
   ]
  },
  {
   "cell_type": "code",
   "execution_count": 5,
   "metadata": {
    "ExecuteTime": {
     "end_time": "2024-04-01T18:49:30.106711Z",
     "start_time": "2024-04-01T18:49:30.015988Z"
    }
   },
   "outputs": [],
   "source": [
    "import requests\n",
    "import traceback\n",
    "import numpy as np\n",
    "from src.bicimad import BiciMAD, ALL_TRANSPORT_METHODS"
   ]
  },
  {
   "cell_type": "code",
   "execution_count": 6,
   "metadata": {
    "ExecuteTime": {
     "end_time": "2024-04-01T18:49:37.325895Z",
     "start_time": "2024-04-01T18:49:36.959421Z"
    }
   },
   "outputs": [],
   "source": [
    "bicimad = BiciMAD(authentication_file_path=\"./keys.json\")\n",
    "# print(bicimad.hello())\n",
    "# Flag to enable/disable already implemented method test\n",
    "test = False\n",
    "if test:\n",
    "    try:\n",
    "        bicimad.login()\n",
    "        print(f\"Access token: '{bicimad.accessToken}'\")\n",
    "        whoami = bicimad.whoami()\n",
    "        ##\n",
    "        bus_stops = bicimad.transport_busemtmad_stops_list(include_details=True, limit=5)\n",
    "        print(f\"transport_busemtmad_stops_list: retrieved {len(bus_stops)} bus stops\")\n",
    "        ##\n",
    "        stop_details = bicimad.transport_busemtmad_stops_detail(bus_stop)\n",
    "        print(f\"transport_busemtmad_stops_detail\\n{stop_details}\\n\")\n",
    "        bus_stops_by_stop = bicimad.transport_busemtmad_stops_aroundstop(bus_stop=bus_stop, radius=1000, include_details=True)\n",
    "        print(f\"transport_busemtmad_stops_aroundstop: retrieved {len(bus_stops_by_stop)} bus stops\")\n",
    "        ##\n",
    "        bus_stops_by_xy = bicimad.transport_busemtmad_stops_aroundxy(longitude=bus_stop.coordinate_x, latitude=bus_stop.coordinate_y,\n",
    "                                                               radius=1000, include_details=True)\n",
    "        print(f\"transport_busemtmad_stops_aroundxy: retrieved {len(bus_stops_by_xy)} bus stops\")\n",
    "        assert len(bus_stops_by_stop) == len(bus_stops_by_xy)\n",
    "        ## TODO: ERROR\n",
    "        line = bus_stop.bus_stop_detail.data_lines[0]\n",
    "        data = bicimad.transport_busemtmad_stops_arrives(bus_stop=bus_stop, line=line, debug=True)\n",
    "    \n",
    "        start_date = \"20250101\"\n",
    "        end_date = \"20260101\"\n",
    "        calendar = bicimad.transport_busemtmad_calendar(start_date=start_date, end_date=end_date)\n",
    "        print(f\"transport_busemtmad_calendar: retrieved {len(calendar)} dates\")\n",
    "        \n",
    "        for line_id in range(250):\n",
    "            incidences = bicimad.transport_busemtmad_lines_incidents(line_id=line_id)\n",
    "            print(f\"Line {line_id} incidences {incidences}\")\n",
    "        \n",
    "        reference_date = \"20250310\"\n",
    "        for line_id in range(250):\n",
    "            info_line_detail = bicimad.transport_busemtmad_lines_infoline_detail(line_id=line_id, reference_date=reference_date)\n",
    "            print(f\"Line {line_id} detail {info_line_detail}\")\n",
    "            \n",
    "        reference_date = \"20250310\"\n",
    "        info_line_general_list = bicimad.transport_busemtmad_lines_infoline_general(reference_date=reference_date)\n",
    "        for info_line_general in info_line_general_list:\n",
    "            print(f\"transport_busemtmad_lines_infoline_general {info_line_general}\")\n",
    "            \n",
    "        line_stops = bicimad.transport_busemtmad_stops_list(line_id=1, direction=1)\n",
    "        for stop in line_stops:\n",
    "            print(f\"stops {stop}\")\n",
    "        line_stops = bicimad.transport_busemtmad_stops_list(line_id=1, direction=2)\n",
    "        for stop in line_stops:\n",
    "            print(f\"stops {stop}\")\n",
    "        operation_groups = bicimad.transport_busemtmad_lines_operation_groups()\n",
    "        print(f\"transport_busemtmad_lines_operation_groups {operation_groups}\")\n",
    "        \n",
    "        line_id = 1\n",
    "        lines_route = bicimad.transport_busemtmad_lines_route(line_id=line_id)\n",
    "        print(f\"transport_busemtmad_lines_route {lines_route}\")\n",
    "    \n",
    "        # TODO: not imlemented\n",
    "        #transport_busemtmad_stops_around_street()\n",
    "    \n",
    "        line_id = 2\n",
    "        lines_timetable = bicimad.transport_busemtmad_lines_timetable(line_id=line_id)\n",
    "        print(f\"transport_busemtmad_lines_timetable {lines_timetable}\")\n",
    "    \n",
    "        line_id = 2\n",
    "        lines_trips = bicimad.transport_busemtmad_lines_trips(line_id=line_id, reference_date=\"20250310\")\n",
    "        print(f\"transport_busemtmad_lines_trips {lines_trips}\")\n",
    "    \n",
    "        # TODO: not imlemented\n",
    "        #travel_plan = bicimad.transport_busemtmad_travel_plan()\n",
    "        #print(f\"transport_busemtmad_travel_plan {travel_plan}\")\n",
    "    \n",
    "    except KeyError as e:\n",
    "        print(f\"***KeyError***\")\n",
    "        # traceback.print_exc()\n",
    "    bicimad.logout()"
   ]
  },
  {
   "cell_type": "code",
   "execution_count": 22,
   "metadata": {},
   "outputs": [
    {
     "name": "stdout",
     "output_type": "stream",
     "text": [
      "Access token: '6a992860-fdcf-11ef-a573-32066b0eb8f7'\n",
      "[{'bike_in_station': 0, 'Tracker-ioMovement': 'Quieta', 'DeviceName': '0161', 'notify': False, 'qrcode': 5060, 'Batery': 0, 'porcBattery': 0, 'state': 'Indefinido', 'geometry': {'type': 'Point', 'coordinates': [0.0, 0.0]}, 'Address': '28011,ES,Madrid,Madrid,Paseo de la,Puerta del batán ,Madrid', 'firstDatePos': {'$date': 1686564761000}, 'Speed': 0, 'virtual_station': 0, 'datePosition': '2023-06-12T10:31:04', 'lastUpdate': '2023-06-12T10:31:06.669000', 'rangeEstimated': 0}]\n",
      "[]\n",
      "{'accessToken': '6a992860-fdcf-11ef-a573-32066b0eb8f7'}\n",
      "https://openapi.emtmadrid.es/v1/transport/bicimadgo/bikes/availability/arroundxy/0.0/0.0/10000/\n",
      "[]\n",
      "[]\n"
     ]
    }
   ],
   "source": [
    "bicimad = BiciMAD(authentication_file_path=\"./keys.json\")\n",
    "# print(bicimad.hello())\n",
    "# Flag to enable/disable already implemented method test\n",
    "\n",
    "try:\n",
    "    bicimad.login()\n",
    "    print(f\"Access token: '{bicimad.accessToken}'\")\n",
    "    whoami = bicimad.whoami()\n",
    "    # Any\n",
    "    bikes_availables = bicimad.transport_bicimad_bikes_go_availables()\n",
    "    print(bikes_availables)\n",
    "    # Bike ID\n",
    "    bikes_availables = bicimad.transport_bicimad_bikes_go_availables(bike_id=5060)\n",
    "    print(bikes_availables)\n",
    "    # Around XY\n",
    "    longitude = 0.0#-3.684115\n",
    "    latitude = 0.0#40.425437\n",
    "    radius = 10000\n",
    "    bikes_availables = bicimad.transport_bicimad_bikes_go_availables(longitude=longitude, latitude=latitude, radius=radius, debug=True)\n",
    "    print(bikes_availables)\n",
    "\n",
    "    #\n",
    "    station = bicimad.transport_bicimad_list_bicimad_stations(station_id=2)\n",
    "    print(station)\n",
    "except KeyError as e:\n",
    "    print(f\"***KeyError***\")\n",
    "    # traceback.print_exc()\n",
    "# bicimad.logout()"
   ]
  }
 ],
 "metadata": {
  "kernelspec": {
   "display_name": "Python 3 (ipykernel)",
   "language": "python",
   "name": "python3"
  },
  "language_info": {
   "codemirror_mode": {
    "name": "ipython",
    "version": 3
   },
   "file_extension": ".py",
   "mimetype": "text/x-python",
   "name": "python",
   "nbconvert_exporter": "python",
   "pygments_lexer": "ipython3",
   "version": "3.10.13"
  }
 },
 "nbformat": 4,
 "nbformat_minor": 4
}

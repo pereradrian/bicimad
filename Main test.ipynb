{
 "cells": [
  {
   "cell_type": "code",
   "execution_count": null,
   "metadata": {
    "ExecuteTime": {
     "end_time": "2024-04-01T18:49:30.013476Z",
     "start_time": "2024-04-01T18:49:29.989393Z"
    }
   },
   "outputs": [],
   "source": [
    "%reload_ext autoreload\n",
    "%autoreload 2"
   ]
  },
  {
   "cell_type": "code",
   "execution_count": null,
   "metadata": {
    "ExecuteTime": {
     "end_time": "2024-04-01T18:49:30.106711Z",
     "start_time": "2024-04-01T18:49:30.015988Z"
    }
   },
   "outputs": [],
   "source": [
    "import requests\n",
    "from src.bicimad import BiciMAD"
   ]
  },
  {
   "cell_type": "code",
   "execution_count": null,
   "metadata": {
    "ExecuteTime": {
     "end_time": "2024-04-01T18:49:37.325895Z",
     "start_time": "2024-04-01T18:49:36.959421Z"
    }
   },
   "outputs": [],
   "source": [
    "bicimad = BiciMAD(authentication_file_path=\"./keys.json\")\n",
    "print(bicimad.hello())\n",
    "result = bicimad.login()\n",
    "# result"
   ]
  }
 ],
 "metadata": {
  "kernelspec": {
   "display_name": "Python 3 (ipykernel)",
   "language": "python",
   "name": "python3"
  },
  "language_info": {
   "codemirror_mode": {
    "name": "ipython",
    "version": 3
   },
   "file_extension": ".py",
   "mimetype": "text/x-python",
   "name": "python",
   "nbconvert_exporter": "python",
   "pygments_lexer": "ipython3",
   "version": "3.7.7"
  }
 },
 "nbformat": 4,
 "nbformat_minor": 4
}
